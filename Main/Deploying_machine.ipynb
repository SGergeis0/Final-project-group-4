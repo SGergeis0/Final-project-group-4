{
 "cells": [
  {
   "cell_type": "code",
   "execution_count": null,
   "metadata": {},
   "outputs": [],
   "source": [
    "#install the following before running: !pip install keras-tuner"
   ]
  },
  {
   "cell_type": "code",
   "execution_count": null,
   "metadata": {},
   "outputs": [],
   "source": [
    "# Import dependencies \n",
    "%matplotlib inline\n",
    "import matplotlib.pyplot as plt\n",
    "import numpy as np\n",
    "import pandas as pd"
   ]
  },
  {
   "cell_type": "code",
   "execution_count": null,
   "metadata": {},
   "outputs": [],
   "source": [
    "# Filepaths, numpy, and Tensorflow\n",
    "import os\n",
    "import numpy as np\n",
    "import tensorflow as tf\n",
    "import tensorflow as tf\n",
    "from tensorflow.keras import layers, models"
   ]
  },
  {
   "cell_type": "code",
   "execution_count": null,
   "metadata": {},
   "outputs": [],
   "source": [
    "# Keras\n",
    "import keras_tuner as kt\n",
    "from tensorflow import keras\n",
    "from tensorflow.keras.models import Sequential\n",
    "from tensorflow.keras.utils import to_categorical\n",
    "from tensorflow.keras.layers import Dense\n",
    "from sklearn.model_selection import train_test_split\n",
    "from sklearn.preprocessing import StandardScaler,OneHotEncoder\n",
    "from keras_tuner import HyperParameters\n"
   ]
  },
  {
   "cell_type": "code",
   "execution_count": null,
   "metadata": {},
   "outputs": [],
   "source": [
    "# Sklearn scaling\n",
    "from sklearn.preprocessing import MinMaxScaler\n",
    "import sklearn as skl"
   ]
  },
  {
   "cell_type": "code",
   "execution_count": null,
   "metadata": {},
   "outputs": [],
   "source": [
    "# Read in our data\n",
    "spotify_df = pd.read_csv(\"songs_filtered.csv\")\n",
    "spotify_df.head()"
   ]
  },
  {
   "cell_type": "code",
   "execution_count": null,
   "metadata": {},
   "outputs": [],
   "source": [
    " # Set 'song' and 'artist' columns as the index\n",
    "spotify_df.set_index(['song', 'artist'], inplace=True)\n",
    "\n",
    "# Display the updated DataFrame\n",
    "spotify_df.head()"
   ]
  },
  {
   "cell_type": "code",
   "execution_count": null,
   "metadata": {},
   "outputs": [],
   "source": [
    "#get dummies for genre column\n",
    "genre_df = pd.get_dummies(spotify_df, columns=['genre'])\n",
    "genre_df.head()"
   ]
  },
  {
   "cell_type": "code",
   "execution_count": null,
   "metadata": {},
   "outputs": [],
   "source": [
    "#concat spotify dataframe with genre dummies dataframe\n",
    "spotify_df = pd.concat([spotify_df, genre_df], axis=1)\n",
    "spotify_df.head()"
   ]
  },
  {
   "cell_type": "code",
   "execution_count": null,
   "metadata": {},
   "outputs": [],
   "source": [
    "# drop original genre column\n",
    "spotify_df.drop(columns=['genre'], inplace=True)\n",
    "spotify_df.head()"
   ]
  },
  {
   "cell_type": "code",
   "execution_count": null,
   "metadata": {},
   "outputs": [],
   "source": [
    "#split data\n",
    "X = spotify_df.drop(columns=spotify_df.filter(like='genre_').columns)  \n",
    "y = spotify_df.filter(like='genre_')  "
   ]
  },
  {
   "cell_type": "code",
   "execution_count": null,
   "metadata": {},
   "outputs": [],
   "source": [
    "#train data\n",
    "X_train, X_test, y_train, y_test = train_test_split(X, y, test_size=0.2, random_state=42)"
   ]
  },
  {
   "cell_type": "code",
   "execution_count": null,
   "metadata": {},
   "outputs": [],
   "source": [
    "# Create scaler instance\n",
    "scaler = skl.preprocessing.StandardScaler()\n",
    "\n",
    "# Fit & Scale\n",
    "X_train_scaled=scaler.fit_transform(X_train)\n",
    "X_test_scaled=scaler.transform(X_test)"
   ]
  },
  {
   "cell_type": "code",
   "execution_count": null,
   "metadata": {},
   "outputs": [],
   "source": [
    "# Define the neural network\n",
    "model = models.Sequential()\n",
    "\n",
    "# Input layer (number of features in X_train)\n",
    "model.add(tf.keras.layers.InputLayer(units = 10, shape=(X_train.shape[1],)))\n",
    "\n",
    "# Hidden layers (example with 2 hidden layers)\n",
    "model.add(tf.keras.layers.Dense(64, activation='relu'))\n",
    "model.add(tf.keras.layers.Dense(32, activation='relu'))\n",
    "\n",
    "# Output layer (number of genres, using softmax for multi-class classification)\n",
    "model.add(tf.keras.layers.Dense(units = y_train.shape[1], activation='softmax'))"
   ]
  },
  {
   "cell_type": "code",
   "execution_count": null,
   "metadata": {},
   "outputs": [],
   "source": [
    "# Compile the model\n",
    "model.compile(optimizer='adam', loss='categorical_crossentropy', metrics=['accuracy'])"
   ]
  },
  {
   "cell_type": "code",
   "execution_count": null,
   "metadata": {},
   "outputs": [],
   "source": [
    "# Train the model\n",
    "model.fit(X_train, y_train, epochs=20, batch_size=32, validation_split=0.2)"
   ]
  },
  {
   "cell_type": "code",
   "execution_count": null,
   "metadata": {},
   "outputs": [],
   "source": [
    "# Evaluate the model on the test set\n",
    "test_loss, test_acc = model.evaluate(X_test_scaled, y_test)\n",
    "print(f'Test accuracy: {test_acc}')"
   ]
  },
  {
   "cell_type": "markdown",
   "metadata": {},
   "source": [
    "# Tune Model"
   ]
  },
  {
   "cell_type": "code",
   "execution_count": null,
   "metadata": {},
   "outputs": [],
   "source": [
    "def create_model(hp):\n",
    "    nn_model = tf.keras.models.Sequential()\n",
    "\n",
    "    # Allow kerastuner to decide which activation function to use in hidden layers\n",
    "    activation = hp.Choice('activation',['relu','tanh'])\n",
    "\n",
    "    # Allow kerastuner to decide number of neurons in first layer\n",
    "    nn_model.add(tf.keras.layers.Dense(units=hp.Int('first_units',\n",
    "        min_value=1,\n",
    "        max_value=30,\n",
    "        step=5), activation=activation, input_shape=(X_train.shape[1],)))\n",
    "\n",
    "    # Allow kerastuner to decide number of hidden layers and neurons in hidden layers\n",
    "    for i in range(hp.Int('num_layers', 1, 5)):\n",
    "        nn_model.add(tf.keras.layers.Dense(units=hp.Int('units_' + str(i),\n",
    "            min_value=1,\n",
    "            max_value=30,\n",
    "            step=5),\n",
    "            activation=activation))\n",
    "\n",
    "    nn_model.add(layers.Dense(y_train.shape[1], activation='softmax'))\n",
    "\n",
    "    # Compile the model\n",
    "    nn_model.compile(loss=\"categorical_crossentropy\", optimizer='adam', metrics=[\"accuracy\"])\n",
    "\n",
    "    return nn_model"
   ]
  },
  {
   "cell_type": "code",
   "execution_count": null,
   "metadata": {},
   "outputs": [],
   "source": [
    "tuner = kt.Hyperband(\n",
    "    create_model,\n",
    "    objective=\"val_accuracy\",\n",
    "    max_epochs=20,\n",
    "    hyperband_iterations=2)"
   ]
  },
  {
   "cell_type": "code",
   "execution_count": null,
   "metadata": {},
   "outputs": [],
   "source": [
    "# Run the kerastuner search for best hyperparameters\n",
    "tuner.search(X_train_scaled,y_train,epochs=20,validation_data=(X_test_scaled,y_test))"
   ]
  },
  {
   "cell_type": "code",
   "execution_count": null,
   "metadata": {},
   "outputs": [],
   "source": [
    "# Get top 3 model hyperparameters and print the values\n",
    "top_hyper = tuner.get_best_hyperparameters(3)\n",
    "for param in top_hyper:\n",
    "    print(param.values)"
   ]
  },
  {
   "cell_type": "code",
   "execution_count": null,
   "metadata": {},
   "outputs": [],
   "source": [
    "# Evaluate the top 3 models against the test dataset\n",
    "top_model = tuner.get_best_models(3)\n",
    "for model in top_model:\n",
    "    model_loss, model_accuracy = model.evaluate(X_test_scaled,y_test,verbose=2)\n",
    "    print(f\"Loss: {model_loss}, Accuracy: {model_accuracy}\")"
   ]
  },
  {
   "cell_type": "code",
   "execution_count": null,
   "metadata": {},
   "outputs": [],
   "source": [
    "# Get the best model hyperparameters\n",
    "best_hyper = tuner.get_best_hyperparameters(2)[0]\n",
    "best_hyper.values"
   ]
  },
  {
   "cell_type": "markdown",
   "metadata": {},
   "source": [
    "# Training Top 3 Models"
   ]
  },
  {
   "cell_type": "code",
   "execution_count": null,
   "metadata": {},
   "outputs": [],
   "source": [
    "import tensorflow as tf\n",
    "from tensorflow.keras import layers, models\n",
    "\n",
    "def create_best_model1():\n",
    "    nn_model = models.Sequential()\n",
    "\n",
    "    # Best parameters from tuning\n",
    "    activation = 'relu'  # Best activation function\n",
    "    first_units = 21  # Number of neurons in the first layer\n",
    "\n",
    "    # Input layer with first_units and relu activation\n",
    "    nn_model.add(tf.keras.layers.Dense(units=first_units, activation=activation, input_dim=X_train.shape[1]))\n",
    "\n",
    "    # Hidden layers based on the best parameters\n",
    "    nn_model.add(tf.keras.layers.Dense(units=16, activation=activation))  # Layer 1\n",
    "\n",
    "    # Output layer: Use softmax for multi-class classification (number of classes should match your data)\n",
    "    nn_model.add(tf.keras.layers.Dense(units=y_train.shape[1], activation='softmax'))\n",
    "\n",
    "    # Compile the model with categorical crossentropy loss, adam optimizer, and accuracy metric\n",
    "    nn_model.compile(loss='categorical_crossentropy', optimizer='adam', metrics=['accuracy'])\n",
    "\n",
    "    return nn_model\n",
    "\n",
    "# Create the model\n",
    "best_model = create_best_model1()\n",
    "\n",
    "# Train the model using the best parameters\n",
    "best_model.fit(X_train_scaled, y_train, epochs=20)\n",
    "\n",
    "# Evaluate the model on the test set\n",
    "test_loss, test_acc = best_model.evaluate(X_test_scaled, y_test, verbose=2)\n",
    "print(f'Test accuracy: {test_acc}')\n",
    "\n"
   ]
  },
  {
   "cell_type": "code",
   "execution_count": null,
   "metadata": {},
   "outputs": [],
   "source": [
    "import tensorflow as tf\n",
    "from tensorflow.keras import layers, models\n",
    "\n",
    "def create_best_model2():\n",
    "    nn_model = models.Sequential()\n",
    "\n",
    "    # Best parameters from tuning\n",
    "    activation = 'relu'  # Best activation function\n",
    "    first_units = 16  # Number of neurons in the first layer\n",
    "\n",
    "    # Input layer with first_units and relu activation\n",
    "    nn_model.add(tf.keras.layers.Dense(units=first_units, activation=activation, input_dim=X_train.shape[1]))\n",
    "\n",
    "    # Hidden layers based on the best parameters\n",
    "    nn_model.add(tf.keras.layers.Dense(units=26, activation=activation))  # Layer 1\n",
    "    nn_model.add(tf.keras.layers.Dense(units=21, activation=activation))  # Layer 2\n",
    "\n",
    "    # Output layer: Use softmax for multi-class classification (number of classes should match your data)\n",
    "    nn_model.add(tf.keras.layers.Dense(units=y_train.shape[1], activation='softmax'))\n",
    "\n",
    "    # Compile the model with categorical crossentropy loss, adam optimizer, and accuracy metric\n",
    "    nn_model.compile(loss='categorical_crossentropy', optimizer='adam', metrics=['accuracy'])\n",
    "\n",
    "    return nn_model\n",
    "\n",
    "# Create the model\n",
    "best_model2 = create_best_model2()\n",
    "\n",
    "# Train the model using the best parameters\n",
    "best_model2.fit(X_train_scaled, y_train, epochs=7)\n",
    "\n",
    "# Evaluate the model on the test set\n",
    "test_loss, test_acc = best_model2.evaluate(X_test_scaled, y_test, verbose=2)\n",
    "print(f'Test accuracy: {test_acc}')\n",
    "\n"
   ]
  },
  {
   "cell_type": "code",
   "execution_count": null,
   "metadata": {},
   "outputs": [],
   "source": [
    "import tensorflow as tf\n",
    "from tensorflow.keras import layers, models\n",
    "\n",
    "def create_best_model3():\n",
    "    nn_model = models.Sequential()\n",
    "\n",
    "    # Best parameters from tuning\n",
    "    activation = 'relu'  # Best activation function\n",
    "    first_units = 16  # Number of neurons in the first layer\n",
    "\n",
    "    # Input layer with first_units and relu activation\n",
    "    nn_model.add(tf.keras.layers.Dense(units=first_units, activation=activation, input_dim=X_train.shape[1]))\n",
    "\n",
    "    # Hidden layers based on the best parameters\n",
    "    nn_model.add(tf.keras.layers.Dense(units=26, activation=activation))  # Layer 1\n",
    "    nn_model.add(tf.keras.layers.Dense(units=26, activation=activation))  # Layer 2\n",
    "\n",
    "\n",
    "    # Output layer: Use softmax for multi-class classification (number of classes should match your data)\n",
    "    nn_model.add(tf.keras.layers.Dense(units=y_train.shape[1], activation='softmax'))\n",
    "\n",
    "    # Compile the model with categorical crossentropy loss, adam optimizer, and accuracy metric\n",
    "    nn_model.compile(loss='categorical_crossentropy', optimizer='adam', metrics=['accuracy'])\n",
    "\n",
    "    return nn_model\n",
    "\n",
    "# Create the model\n",
    "best_model3 = create_best_model3()\n",
    "\n",
    "# Train the model using the best parameters\n",
    "best_model3.fit(X_train_scaled, y_train, epochs=20)\n",
    "\n",
    "# Evaluate the model on the test set\n",
    "test_loss, test_acc = best_model3.evaluate(X_test_scaled, y_test, verbose=2)\n",
    "print(f'Test accuracy: {test_acc}')\n",
    "\n"
   ]
  },
  {
   "cell_type": "code",
   "execution_count": null,
   "metadata": {},
   "outputs": [],
   "source": [
    "# Save the model\n",
    "model_save_path = 'best_model.h5'\n",
    "best_model.save(model_save_path)\n",
    "\n",
    "print(f\"Model saved to {model_save_path}\")"
   ]
  },
  {
   "cell_type": "markdown",
   "metadata": {},
   "source": [
    "# Prediciting classification"
   ]
  },
  {
   "cell_type": "code",
   "execution_count": null,
   "metadata": {},
   "outputs": [],
   "source": [
    "# Load the model\n",
    "from tensorflow.keras.models import load_model\n",
    "model = load_model(\"best_model.h5\")"
   ]
  },
  {
   "cell_type": "code",
   "execution_count": null,
   "metadata": {},
   "outputs": [],
   "source": [
    "from sklearn.preprocessing import StandardScaler\n",
    "\n",
    "# Assuming you have already fitted the scaler on the training data\n",
    "scaler = StandardScaler()\n",
    "scaler.fit(X_train)\n",
    "\n",
    "# Select a specific row, e.g., make sure it matches \n",
    "row_to_classify = spotify_df.iloc[14]\n",
    "\n",
    "# Define the features used during training\n",
    "features = ['duration_ms', 'explicit', 'year', 'popularity', 'danceability',\n",
    "            'energy', 'key', 'loudness', 'mode', 'speechiness', 'acousticness',\n",
    "            'instrumentalness', 'liveness', 'valence', 'tempo']  # 14 distinct features\n",
    "\n",
    "# Define your genre labels\n",
    "genre_labels = ['Dance/Electronic', 'R&B', 'Country', 'Hip Hop',\n",
    "                'Latin', 'Metal', 'Pop', 'Rock']\n",
    "\n",
    "# Extract feature values for the selected row\n",
    "row_features = row_to_classify[features].values.reshape(1, -1)\n",
    "\n",
    "# Apply the same scaler used during training\n",
    "row_features_scaled = scaler.transform(row_features)\n",
    "\n",
    "# Make a classification prediction with the model\n",
    "predicted_genre_prob = model.predict(row_features_scaled)\n",
    "predicted_genre_index = predicted_genre_prob.argmax(axis=-1)  # Get the index of the highest probability\n",
    "predicted_genre_label = genre_labels[predicted_genre_index[0]]  # Map index to genre label\n",
    "\n",
    "# Get the actual genre (one-hot encoded in the DataFrame) and convert it to label\n",
    "actual_genre_one_hot = row_to_classify[['genre_Dance/Electronic', 'genre_R&B',\n",
    "       'genre_country', 'genre_hip hop', 'genre_latin', 'genre_metal',\n",
    "       'genre_pop', 'genre_rock']].values\n",
    "\n",
    "# Find the index of the actual genre from the one-hot encoding\n",
    "actual_genre_index = actual_genre_one_hot.argmax()\n",
    "actual_genre_label = genre_labels[actual_genre_index]\n",
    "\n",
    "# Get the song name from the index\n",
    "song_name = spotify_df.index[14]  # Select the row\n",
    "\n",
    "# Check if the predicted genre matches the actual genre\n",
    "is_classified_correctly = predicted_genre_label == actual_genre_label\n",
    "\n",
    "# Output the results including the song name\n",
    "print(f\"Song Name: {song_name}\")\n",
    "print(f\"Predicted Genre: {predicted_genre_label}\")\n",
    "print(f\"Actual Genre: {actual_genre_label}\")\n",
    "print(f\"Classified Correctly: {is_classified_correctly}\")\n"
   ]
  }
 ],
 "metadata": {
  "language_info": {
   "name": "python"
  }
 },
 "nbformat": 4,
 "nbformat_minor": 2
}
